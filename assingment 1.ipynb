{
 "cells": [
  {
   "cell_type": "markdown",
   "id": "c37fb7a6-45fd-439d-9e11-ef56506b8bdc",
   "metadata": {},
   "source": [
    "### Ques1.Explain the key features of Python that make it a popular choice for programming.\n"
   ]
  },
  {
   "cell_type": "markdown",
   "id": "940bfb75-1032-4f70-b06c-f51e112fd02f",
   "metadata": {},
   "source": [
    "#### 1.Easy Syntax:\n",
    "Python's simple and readable syntax makes it easy to learn and use, especially for beginners.\n",
    "#### 2.Versatility:\n",
    "It supports various programming paradigms like object-oriented, functional, and procedural, making it flexible for different tasks.\n",
    "#### 3.Extensive Libraries:\n",
    "Python has a rich ecosystem of libraries and frameworks, like NumPy for scientific computing, Django for web development, and 4.TensorFlow for machine learning.\n",
    "#### 4.Cross-Platform:\n",
    "+Python runs on multiple platforms, including Windows, macOS, and Linux, making it highly portable.\n",
    "#### 5.Strong Community Support: \n",
    "A large, active community contributes to Python's development and provides abundant resources, tutorials, and third-party tools.\n",
    "#### 6.Interpreted Language: \n",
    "Python is an interpreted language, allowing for dynamic execution, which simplifies testing and debugging."
   ]
  },
  {
   "cell_type": "markdown",
   "id": "b24aa572-0683-40d9-bd95-feed077872ff",
   "metadata": {},
   "source": [
    "### Ques2.Describe the role of predefined keywords in Python and provide examples of how they are used in a programm.\n",
    "#### Predefined keywords in Python are reserved words that have specific meanings and functions. They are part of the language's syntax and cannot be used as variable names, function names, or identifiers. These keywords define the structure and control flow of a Python programm.\n",
    "### Key Roles of Python Keywords:\n"
   ]
  },
  {
   "cell_type": "raw",
   "id": "b4b6148a-c440-4996-ad27-ef349cb0c095",
   "metadata": {},
   "source": [
    "1.Control Flow: Keywords like if, else, elif, for, and while manage the flow of execution in the program.\n",
    "2.Data Types and Values: Keywords like True, False, and None represent boolean values and null values.\n",
    "3.Function Definition: def, return are used to define and control functions.\n",
    "4.Exception Handling: try, except, finally manage error handling.\n",
    "5.Class and Object Definitions: class, self define classes and objects in object-oriented programming.\n",
    "6.Logical Operators: and, or, not are used for logical operations."
   ]
  },
  {
   "cell_type": "markdown",
   "id": "96b395f1-75c7-428a-8f54-85a68e0f6907",
   "metadata": {},
   "source": [
    "## Example of Keywords in a Programm\r\n"
   ]
  },
  {
   "cell_type": "code",
   "execution_count": 28,
   "id": "f5a5023c-f0eb-46e1-bc22-79254659bb76",
   "metadata": {},
   "outputs": [
    {
     "name": "stdout",
     "output_type": "stream",
     "text": [
      "Positive number\n"
     ]
    }
   ],
   "source": [
    "# Define a simple function\n",
    "def check_number(number):\n",
    "    # Control flow using 'if', 'elif', and 'else'\n",
    "    if number > 0:\n",
    "        return True\n",
    "    elif number < 0:\n",
    "        return False\n",
    "    else:\n",
    "        return None\n",
    "\n",
    "# Call the function\n",
    "result = check_number(10)\n",
    "\n",
    "# Output result using 'print'\n",
    "if result is True:\n",
    "    print(\"Positive number\")\n",
    "elif result is False:\n",
    "    print(\"Negative number\")\n",
    "else:\n",
    "    print(\"Number is zero\")\n"
   ]
  },
  {
   "cell_type": "markdown",
   "id": "01923eec-1a01-4440-81bf-e5520ac843f1",
   "metadata": {},
   "source": [
    "### Ques3.Compare and contrast mutable and immutable objects in Python with examples.\n",
    "### ans 3. Mutable Objects:\n"
   ]
  },
  {
   "cell_type": "raw",
   "id": "4d13ce76-986d-486b-a97f-05dd7c9de37e",
   "metadata": {},
   "source": [
    "Definition: Mutable objects can be changed or modified after they are created.\n",
    "Examples: Lists, dictionaries, sets, byte arrays.\n",
    "Behavior: When you modify a mutable object, it doesn’t create a new object in memory; the object itself is updated."
   ]
  },
  {
   "cell_type": "code",
   "execution_count": 33,
   "id": "45850070-c41a-46d5-b321-a45c396a357c",
   "metadata": {},
   "outputs": [
    {
     "name": "stdout",
     "output_type": "stream",
     "text": [
      "2332072554368\n",
      "[10, 2, 3]\n",
      "2332072554368\n"
     ]
    }
   ],
   "source": [
    "# List (mutable)\n",
    "my_list = [1, 2, 3]\n",
    "print(id(my_list))  # Memory address before modification\n",
    "my_list[0] = 10  # Modify the list\n",
    "print(my_list)  # [10, 2, 3]\n",
    "print(id(my_list))  # Memory address remains the same\n"
   ]
  },
  {
   "cell_type": "markdown",
   "id": "cd3a3935-b937-483e-a2fa-327aa4c54717",
   "metadata": {},
   "source": [
    "### Immutable Objects:\n"
   ]
  },
  {
   "cell_type": "markdown",
   "id": "0bf96417-3352-40ff-b45c-64df561da211",
   "metadata": {},
   "source": [
    "#### Definition: \n",
    "Immutable objects cannot be changed after they are created.\n",
    "#### Examples: \n",
    "Integers, floats, strings, tuples, frozensets.\n",
    "#### Behavior:\n",
    "Any attempt to change an immutable object results in the creation of a new object in memory."
   ]
  },
  {
   "cell_type": "code",
   "execution_count": 37,
   "id": "1cbe4a3c-dee1-4cb0-a169-c00180643dfc",
   "metadata": {},
   "outputs": [
    {
     "name": "stdout",
     "output_type": "stream",
     "text": [
      "2332095831936\n",
      "Hello World\n",
      "2332072455536\n"
     ]
    }
   ],
   "source": [
    "# String (immutable)\n",
    "my_string = \"Hello\"\n",
    "print(id(my_string))  # Memory address before modification\n",
    "my_string = my_string + \" World\"  # Create a new string\n",
    "print(my_string)  # \"Hello World\"\n",
    "print(id(my_string))  # Memory address changes, indicating a new object\n"
   ]
  },
  {
   "cell_type": "markdown",
   "id": "d204666b-ee80-4e04-b66f-b855d2fca9d5",
   "metadata": {},
   "source": [
    "### Ques 4.Discuss the different types of operators in Python and provide examples of how they are used.\n",
    "##### ans4. Python provides several types of operators, each serving a specific purpose for manipulating data. Here are the main types of operators:\n",
    "#### 1. Arithmetic Operators:\n"
   ]
  },
  {
   "cell_type": "raw",
   "id": "95d618c6-ddb6-4f88-aaa5-141c68a97baa",
   "metadata": {},
   "source": [
    "These perform basic mathematical operations.\n",
    "\n",
    "+ (Addition): Adds two values.\n",
    "- (Subtraction): Subtracts one value from another.\n",
    "* (Multiplication): Multiplies two values.\n",
    "/ (Division): Divides one value by another.\n",
    "% (Modulus): Returns the remainder of division.\n",
    "** (Exponentiation): Raises a value to the power of another.\n",
    "// (Floor Division): Returns the quotient without the remainder."
   ]
  },
  {
   "cell_type": "code",
   "execution_count": 41,
   "id": "a6861708-6ad3-4308-b039-1b90e998200a",
   "metadata": {},
   "outputs": [
    {
     "name": "stdout",
     "output_type": "stream",
     "text": [
      "13\n",
      "1000\n"
     ]
    }
   ],
   "source": [
    "a = 10\n",
    "b = 3\n",
    "print(a + b)  # Output: 13\n",
    "print(a ** b)  # Output: 1000\n"
   ]
  },
  {
   "cell_type": "markdown",
   "id": "632c8bce-4dec-4160-8b17-29aee35de0c2",
   "metadata": {},
   "source": [
    "#### 2. Comparison Operators:\n"
   ]
  },
  {
   "cell_type": "raw",
   "id": "684a23ea-bdfc-4a01-b639-0680e8db2625",
   "metadata": {},
   "source": [
    "These compare two values and return True or False.\n",
    "\n",
    "== (Equal): Checks if two values are equal.\n",
    "!= (Not equal): Checks if two values are not equal.\n",
    "> (Greater than): Checks if one value is greater than another.\n",
    "< (Less than): Checks if one value is less than another.\n",
    ">= (Greater than or equal to): Checks if one value is greater than or equal to another.\n",
    "<= (Less than or equal to): Checks if one value is less than or equal to another."
   ]
  },
  {
   "cell_type": "code",
   "execution_count": 46,
   "id": "8bede05b-fc21-4a9e-986d-8f888dbc2e77",
   "metadata": {},
   "outputs": [
    {
     "name": "stdout",
     "output_type": "stream",
     "text": [
      "False\n",
      "True\n"
     ]
    }
   ],
   "source": [
    "x = 5\n",
    "y = 10\n",
    "print(x > y)  # Output: False\n",
    "print(x == 5)  # Output: True\n"
   ]
  },
  {
   "cell_type": "markdown",
   "id": "33695fbc-9cf4-478b-9d83-3e13135cbecd",
   "metadata": {},
   "source": [
    "#### 3. Logical Operators:"
   ]
  },
  {
   "cell_type": "raw",
   "id": "a7135d6e-7b11-4011-b05e-b80d7d3f0cfe",
   "metadata": {},
   "source": [
    "These are used to perform logical operations.\n",
    "\n",
    "and: Returns True if both operands are true.\n",
    "or: Returns True if at least one operand is true.\n",
    "not: Reverses the logical state of its operand."
   ]
  },
  {
   "cell_type": "code",
   "execution_count": 49,
   "id": "cba25e4c-161f-4fbb-8b5a-77cdfa1be897",
   "metadata": {},
   "outputs": [
    {
     "name": "stdout",
     "output_type": "stream",
     "text": [
      "False\n",
      "True\n"
     ]
    }
   ],
   "source": [
    "a = True\n",
    "b = False\n",
    "print(a and b)  # Output: False\n",
    "print(a or b)   # Output: True\n"
   ]
  },
  {
   "cell_type": "markdown",
   "id": "eed1a407-8698-4ef9-a988-7bd166639386",
   "metadata": {},
   "source": [
    "#### 4. Assignment Operators:"
   ]
  },
  {
   "cell_type": "raw",
   "id": "362316d2-ef39-410c-923d-02040496fbbc",
   "metadata": {},
   "source": [
    "These are used to assign values to variables.\n",
    "\n",
    "= (Assign): Assigns a value to a variable.\n",
    "+=, -=, *=, /=, etc.: Modify the variable by performing an operation and then assigning the result."
   ]
  },
  {
   "cell_type": "code",
   "execution_count": 52,
   "id": "594bdaf4-c5cb-4349-a19d-b77cb2f265c8",
   "metadata": {},
   "outputs": [
    {
     "name": "stdout",
     "output_type": "stream",
     "text": [
      "8\n"
     ]
    }
   ],
   "source": [
    "x = 5\n",
    "x += 3  # Equivalent to x = x + 3\n",
    "print(x)  # Output: 8\n"
   ]
  },
  {
   "cell_type": "markdown",
   "id": "0155be4e-a965-473c-a7c7-40f294a4d94e",
   "metadata": {},
   "source": [
    "#### 5. Bitwise Operators:"
   ]
  },
  {
   "cell_type": "raw",
   "id": "b4cc94f1-c130-4f6b-9cde-d43e662b009c",
   "metadata": {},
   "source": [
    "These operate on the binary representation of integers.\n",
    "\n",
    "& (AND), | (OR), ^ (XOR), ~ (NOT), << (Left shift), >> (Right shift)."
   ]
  },
  {
   "cell_type": "code",
   "execution_count": 55,
   "id": "7778e64c-5d99-456a-a4f3-aedc5782191c",
   "metadata": {},
   "outputs": [
    {
     "name": "stdout",
     "output_type": "stream",
     "text": [
      "1\n"
     ]
    }
   ],
   "source": [
    "a = 5  # Binary: 0101\n",
    "b = 3  # Binary: 0011\n",
    "print(a & b)  # Output: 1 (Binary: 0001)\n"
   ]
  },
  {
   "cell_type": "markdown",
   "id": "162cff43-63ae-477a-a49d-b07ab52eaeb0",
   "metadata": {},
   "source": [
    "#### 6. Membership Operators:"
   ]
  },
  {
   "cell_type": "raw",
   "id": "f4200b87-1833-4f8c-83f9-41bd158e7a20",
   "metadata": {},
   "source": [
    "These are used to check if a value is present in a sequence (like a list or string).\n",
    "\n",
    "in: Returns True if a value is found in a sequence.\n",
    "not in: Returns True if a value is not found in a sequence."
   ]
  },
  {
   "cell_type": "code",
   "execution_count": 58,
   "id": "7e68b0c0-c15f-400f-958f-39984f8e184d",
   "metadata": {},
   "outputs": [
    {
     "name": "stdout",
     "output_type": "stream",
     "text": [
      "True\n",
      "True\n"
     ]
    }
   ],
   "source": [
    "lst = [1, 2, 3]\n",
    "print(2 in lst)  # Output: True\n",
    "print(4 not in lst)  # Output: True\n"
   ]
  },
  {
   "cell_type": "markdown",
   "id": "be043d56-cf21-4551-974d-a15b02edaae8",
   "metadata": {},
   "source": [
    "#### 7. Identity Operators:"
   ]
  },
  {
   "cell_type": "raw",
   "id": "fbce8228-ef7d-47ee-b0bc-c57a9b51c030",
   "metadata": {},
   "source": [
    "These check if two variables reference the same object in memory.\n",
    "\n",
    "is: Returns True if both variables point to the same object.\n",
    "is not: Returns True if they point to different objects."
   ]
  },
  {
   "cell_type": "code",
   "execution_count": 61,
   "id": "f57bed9f-c154-4e04-a840-aecc4d6b63aa",
   "metadata": {},
   "outputs": [
    {
     "name": "stdout",
     "output_type": "stream",
     "text": [
      "True\n"
     ]
    }
   ],
   "source": [
    "x = [1, 2, 3]\n",
    "y = x\n",
    "print(x is y)  # Output: True\n"
   ]
  },
  {
   "cell_type": "markdown",
   "id": "df921d61-7229-4e06-87cf-a4aceb8b247b",
   "metadata": {},
   "source": [
    "### Ques 5. Explain the concept of type casting in Python with examples."
   ]
  },
  {
   "cell_type": "markdown",
   "id": "520150fd-2a87-4711-8dba-5076c206c2ac",
   "metadata": {},
   "source": [
    "#### ans 5. Type casting in Python refers to the process of converting one data type into another. It is useful when you want to perform operations that require a specific data type. Python provides built-in functions for type casting.\n",
    "##### Common Type Casting Functions:"
   ]
  },
  {
   "cell_type": "raw",
   "id": "e3eb8616-9189-4ce2-8b61-08df6f7e199f",
   "metadata": {},
   "source": [
    "int(): Converts a value to an integer.\n",
    "float(): Converts a value to a floating-point number.\n",
    "str(): Converts a value to a string.\n",
    "list(): Converts a sequence (like a tuple or set) to a list.\n",
    "tuple(): Converts a sequence to a tuple.\n",
    "bool(): Converts a value to a boolean (True or False).\n"
   ]
  },
  {
   "cell_type": "markdown",
   "id": "d845810d-7a43-45da-80df-fb32f9d3ae7a",
   "metadata": {},
   "source": [
    "#### Examples:\n",
    "##### Integer to String:"
   ]
  },
  {
   "cell_type": "code",
   "execution_count": 66,
   "id": "3233d7fe-c8e9-4f22-abfa-72e0c9181533",
   "metadata": {},
   "outputs": [
    {
     "name": "stdout",
     "output_type": "stream",
     "text": [
      "100\n",
      "<class 'str'>\n"
     ]
    }
   ],
   "source": [
    "num = 100\n",
    "string_num = str(num)\n",
    "print(string_num)  # Output: '100'\n",
    "print(type(string_num))  # Output: <class 'str'>\n"
   ]
  },
  {
   "cell_type": "markdown",
   "id": "c92e2fb7-ef1e-405a-931b-7fc391c0cd28",
   "metadata": {},
   "source": [
    "#### 2.String to Integer:"
   ]
  },
  {
   "cell_type": "code",
   "execution_count": 69,
   "id": "7f786d05-1354-4350-83e5-6b8591bd722a",
   "metadata": {},
   "outputs": [
    {
     "name": "stdout",
     "output_type": "stream",
     "text": [
      "25\n",
      "<class 'int'>\n"
     ]
    }
   ],
   "source": [
    "string_value = \"25\"\n",
    "int_value = int(string_value)\n",
    "print(int_value)  # Output: 25\n",
    "print(type(int_value))  # Output: <class 'int'>\n"
   ]
  },
  {
   "cell_type": "markdown",
   "id": "25877d81-a3a1-4a81-ae40-dd14a58088c6",
   "metadata": {},
   "source": [
    "#### 3.Float to Integer:"
   ]
  },
  {
   "cell_type": "code",
   "execution_count": 72,
   "id": "bf928a3c-a483-4ade-8c19-17f3e890c355",
   "metadata": {},
   "outputs": [
    {
     "name": "stdout",
     "output_type": "stream",
     "text": [
      "3\n"
     ]
    }
   ],
   "source": [
    "float_value = 3.14\n",
    "int_value = int(float_value)\n",
    "print(int_value)  # Output: 3\n"
   ]
  },
  {
   "cell_type": "markdown",
   "id": "1a4bad60-72a9-4e54-8103-34f3c269ba53",
   "metadata": {},
   "source": [
    "#### 4.List to Tuple:"
   ]
  },
  {
   "cell_type": "code",
   "execution_count": 77,
   "id": "4cc681f1-d69d-49c5-bc1d-b46302aa008f",
   "metadata": {},
   "outputs": [
    {
     "name": "stdout",
     "output_type": "stream",
     "text": [
      "(1, 2, 3)\n"
     ]
    }
   ],
   "source": [
    "lst = [1, 2, 3]\n",
    "tup = tuple(lst)\n",
    "print(tup)  # Output: (1, 2, 3)\n"
   ]
  },
  {
   "cell_type": "markdown",
   "id": "5525e574-468a-4b55-a9c6-873902d09af2",
   "metadata": {},
   "source": [
    "#### 5.String to Float:"
   ]
  },
  {
   "cell_type": "code",
   "execution_count": 80,
   "id": "d07b7468-7971-4870-987c-052c707317bc",
   "metadata": {},
   "outputs": [
    {
     "name": "stdout",
     "output_type": "stream",
     "text": [
      "12.34\n"
     ]
    }
   ],
   "source": [
    "string_value = \"12.34\"\n",
    "float_value = float(string_value)\n",
    "print(float_value)  # Output: 12.34\n"
   ]
  },
  {
   "cell_type": "markdown",
   "id": "a1f2564c-214f-4e3b-897e-3d0f992ae63a",
   "metadata": {},
   "source": [
    "### Ques 6.How do conditional statements work in Python? Illustrate with examples.\n",
    "In Python, conditional statements are used to execute code based on whether a condition is True or False. The most common conditional statements are if, elif (else if), and else. They control the flow of a program by allowing different blocks of code to be executed under different conditions.\n",
    "#### Syntax of Conditional Statements:\n"
   ]
  },
  {
   "cell_type": "raw",
   "id": "922d1f8e-c94e-43a1-abcc-77643cbfc939",
   "metadata": {},
   "source": [
    "if: Executes a block of code if a condition is True.\n",
    "elif: Checks another condition if the previous if condition is False.\n",
    "else: Executes a block of code if none of the previous conditions are True."
   ]
  },
  {
   "cell_type": "markdown",
   "id": "7e71474a-8d3a-45e6-b48e-04bc36c6d889",
   "metadata": {},
   "source": [
    "#### Example:"
   ]
  },
  {
   "cell_type": "code",
   "execution_count": 87,
   "id": "b01e3d59-7a9e-4c8c-a3a0-89be7ab94d1d",
   "metadata": {},
   "outputs": [
    {
     "name": "stdout",
     "output_type": "stream",
     "text": [
      "x is positive\n"
     ]
    }
   ],
   "source": [
    "x = 10\n",
    "\n",
    "# If condition\n",
    "if x > 0:\n",
    "    print(\"x is positive\")\n",
    "\n",
    "# Elif condition\n",
    "elif x < 0:\n",
    "    print(\"x is negative\")\n",
    "\n",
    "# Else block for all other cases\n",
    "else:\n",
    "    print(\"x is zero\")\n"
   ]
  },
  {
   "cell_type": "markdown",
   "id": "8def02be-d59e-4d66-889b-2ff91e35916a",
   "metadata": {},
   "source": [
    "#### How It Works:"
   ]
  },
  {
   "cell_type": "raw",
   "id": "ac824b3c-d5e5-49b8-92c4-0127ae3b1998",
   "metadata": {},
   "source": [
    "if checks if the condition x > 0 is True. If it is, it prints \"x is positive\".\n",
    "If the if condition is False, it checks the elif condition (x < 0). If True, it prints \"x is negative\".\n",
    "If both if and elif are False, the else block is executed, printing \"x is zero\"."
   ]
  },
  {
   "cell_type": "code",
   "execution_count": 90,
   "id": "13b1f80a-2401-4b8b-a472-491f62e7757e",
   "metadata": {},
   "outputs": [
    {
     "name": "stdout",
     "output_type": "stream",
     "text": [
      "x is positive and y is greater than 5\n"
     ]
    }
   ],
   "source": [
    "x = 5\n",
    "y = 10\n",
    "\n",
    "if x > 0:\n",
    "    if y > 5:\n",
    "        print(\"x is positive and y is greater than 5\")\n",
    "    else:\n",
    "        print(\"x is positive but y is not greater than 5\")\n",
    "else:\n",
    "    print(\"x is not positive\")\n"
   ]
  },
  {
   "cell_type": "markdown",
   "id": "89778897-2e30-4998-981f-375f124f79d3",
   "metadata": {},
   "source": [
    "#### Conditional with Logical Operators:\n",
    "You can combine multiple conditions using logical operators like and, or, and not."
   ]
  },
  {
   "cell_type": "code",
   "execution_count": 93,
   "id": "da684b70-2979-4f23-a9b5-91dc0e0fc40a",
   "metadata": {},
   "outputs": [
    {
     "name": "stdout",
     "output_type": "stream",
     "text": [
      "x is a positive single-digit number\n"
     ]
    }
   ],
   "source": [
    "x = 7\n",
    "\n",
    "if x > 0 and x < 10:\n",
    "    print(\"x is a positive single-digit number\")\n"
   ]
  },
  {
   "cell_type": "markdown",
   "id": "dc5ee816-14a6-4e38-9be7-0e7f5c60282e",
   "metadata": {},
   "source": [
    "### Ques 7 Describe the different types of loops in Python and their use cases with examples.\n",
    "### ans 7. \n",
    "In Python, there are two main types of loops: for loops and while loops. Each serves different use cases for iterating over data or executing a block of code multiple times.\n",
    "\n",
    "#### 1. For Loop\n",
    "The for loop is used to iterate over a sequence (like a list, tuple, string, or range). It executes a block of code for each item in the sequence.\n",
    "\n",
    "Use Case: When you know the number of iterations or want to iterate over items in a collection."
   ]
  },
  {
   "cell_type": "code",
   "execution_count": 96,
   "id": "e5950bb8-0030-44b1-a919-3ceb76f64d73",
   "metadata": {},
   "outputs": [
    {
     "name": "stdout",
     "output_type": "stream",
     "text": [
      "apple\n",
      "banana\n",
      "cherry\n"
     ]
    }
   ],
   "source": [
    "# Iterating over a list\n",
    "fruits = ['apple', 'banana', 'cherry']\n",
    "for fruit in fruits:\n",
    "    print(fruit)\n"
   ]
  },
  {
   "cell_type": "markdown",
   "id": "d390a7d4-21a9-4d3e-9a72-db93e20552b7",
   "metadata": {},
   "source": [
    "#### 2. While Loop\n",
    "The while loop repeatedly executes a block of code as long as a given condition is True.\n",
    "\n",
    "##### Use Case:\n",
    "When the number of iterations is not known in advance, and you want to continue until a specific condition is met.\n",
    "\n",
    "### Example:"
   ]
  },
  {
   "cell_type": "code",
   "execution_count": 99,
   "id": "a3094bc8-1931-471c-9f21-057af5dd2eb9",
   "metadata": {},
   "outputs": [
    {
     "name": "stdout",
     "output_type": "stream",
     "text": [
      "0\n",
      "1\n",
      "2\n",
      "3\n",
      "4\n"
     ]
    }
   ],
   "source": [
    "# Using a while loop\n",
    "count = 0\n",
    "while count < 5:\n",
    "    print(count)\n",
    "    count += 1\n"
   ]
  },
  {
   "cell_type": "markdown",
   "id": "515c1cc6-6d10-41e4-9b09-2c18fe056963",
   "metadata": {},
   "source": [
    "#### Loop Control Statements\n",
    "Both loops can use control statements such as:\n",
    "\n",
    "##### break: Exits the loop immediately.\n",
    "##### continue: Skips the current iteration and continues with the next iteration.\n",
    "##### Example of break:"
   ]
  },
  {
   "cell_type": "code",
   "execution_count": 104,
   "id": "128a24eb-035a-4c01-8e58-09301ef0f522",
   "metadata": {},
   "outputs": [
    {
     "name": "stdout",
     "output_type": "stream",
     "text": [
      "0\n",
      "1\n",
      "2\n",
      "3\n",
      "4\n"
     ]
    }
   ],
   "source": [
    "for i in range(10):\n",
    "    if i == 5:\n",
    "        break\n",
    "    print(i)\n"
   ]
  },
  {
   "cell_type": "code",
   "execution_count": null,
   "id": "f1f3535f-b585-44d0-b990-739e9df8140d",
   "metadata": {},
   "outputs": [],
   "source": []
  }
 ],
 "metadata": {
  "kernelspec": {
   "display_name": "Python 3 (ipykernel)",
   "language": "python",
   "name": "python3"
  },
  "language_info": {
   "codemirror_mode": {
    "name": "ipython",
    "version": 3
   },
   "file_extension": ".py",
   "mimetype": "text/x-python",
   "name": "python",
   "nbconvert_exporter": "python",
   "pygments_lexer": "ipython3",
   "version": "3.12.4"
  }
 },
 "nbformat": 4,
 "nbformat_minor": 5
}
