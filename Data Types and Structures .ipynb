{
 "cells": [
  {
   "cell_type": "markdown",
   "id": "bde9c25a-51df-414b-bf6a-034fefcf9ebc",
   "metadata": {},
   "source": [
    "Ques 1. What are data structures, and why are they important?\n",
    " \n"
   ]
  },
  {
   "cell_type": "raw",
   "id": "1e2fe4f5-861b-4901-bc1d-60128fc381e1",
   "metadata": {},
   "source": [
    "ans 1. Data structures are organized formats for storing and managing data to enable efficient access and modification. They are fundamental in computer science and programming because they provide the means to handle large amounts of data efficiently, facilitating operations such as searching, sorting, and data retrieval. Common examples include arrays, linked lists, stacks, queues, trees, and graphs. Choosing the appropriate data structure is crucial for optimizing algorithm performance and resource utilization."
   ]
  },
  {
   "cell_type": "markdown",
   "id": "154b3b70-2d18-49d3-955f-d89d4e42edda",
   "metadata": {},
   "source": [
    "ques 2.Explain the difference between mutable and immutable data types with examples."
   ]
  },
  {
   "cell_type": "raw",
   "id": "033872f1-0a38-4e60-afe3-c9c9bd7df687",
   "metadata": {},
   "source": [
    "In Python, data types are categorized as mutable or immutable based on whether their values can be changed after creation:"
   ]
  },
  {
   "cell_type": "markdown",
   "id": "3d2cf0c3-5846-453d-abbf-96b082021379",
   "metadata": {},
   "source": [
    "Mutable data types: These can be altered after their creation, meaning you can change their content without changing their identity. Examples include lists, dictionaries, and sets. For instance, you can add, remove, or modify elements in a list:"
   ]
  },
  {
   "cell_type": "code",
   "execution_count": 11,
   "id": "856aa1d0-e3f6-4390-9e4d-a94fb2cdab74",
   "metadata": {},
   "outputs": [],
   "source": [
    "my_list = [1, 2, 3]\n",
    "my_list.append(4)  # my_list is now [1, 2, 3, 4]\n"
   ]
  },
  {
   "cell_type": "markdown",
   "id": "219edb4d-d4b5-4708-8b27-ed406641cb9f",
   "metadata": {},
   "source": [
    "Immutable data types: Once created, their values cannot be changed. Any modification results in the creation of a new object. Examples include strings, tuples, and integers. For example, concatenating strings creates a new string:"
   ]
  },
  {
   "cell_type": "code",
   "execution_count": 15,
   "id": "c4630920-f8c2-4da2-996b-3f7a71a7cd5f",
   "metadata": {},
   "outputs": [],
   "source": [
    "str1 = \"Hello\"\n",
    "str2 = str1 + \" World\"  # str2 is a new string \"Hello World\"; str1 remains \"Hello\"\n"
   ]
  },
  {
   "cell_type": "markdown",
   "id": "5e98a5bf-3907-450c-bad3-2115ca7df147",
   "metadata": {},
   "source": [
    "ques 3.What are the main differences between lists and tuples in Python?\n",
    "\n",
    "ans 3. Lists and tuples are both sequence data types in Python, but they have key differences:\n",
    "\n",
    "Mutability: Lists are mutable; their elements can be changed, added, or removed after creation. Tuples are immutable; once created, their elements cannot be altered.\n",
    "\n",
    "Syntax: Lists are defined using square brackets [], while tuples are defined using parentheses ()."
   ]
  },
  {
   "cell_type": "code",
   "execution_count": 18,
   "id": "60f20ddb-2ff6-4e3c-ae75-a0ec27fc499a",
   "metadata": {},
   "outputs": [],
   "source": [
    "my_list = [1, 2, 3]\n",
    "my_tuple = (1, 2, 3)\n"
   ]
  },
  {
   "cell_type": "markdown",
   "id": "2f949ec5-1077-4785-824e-06cd3a92a747",
   "metadata": {},
   "source": [
    "Performance: Tuples can be more memory-efficient and faster to access than lists due to their immutability.\n",
    "\n",
    "Use Cases: Lists are suitable for collections of items that may need to change during program execution, such as a list of tasks. Tuples are appropriate for fixed collections of items, like coordinates or other grouped data that should remain constant."
   ]
  },
  {
   "cell_type": "markdown",
   "id": "2040c90e-a516-4f1c-a2d0-b8e93b437450",
   "metadata": {},
   "source": [
    "ques 4.Describe how dictionaries store data.\n",
    "\n",
    "ans 4. In Python, dictionaries store data as key-value pairs, allowing for efficient retrieval based on unique keys. Under the hood, dictionaries are implemented using hash tables, where each key is hashed to generate an index in an underlying array. This hashing mechanism enables average-case constant-time complexity, O(1), for lookups, insertions, and deletions. Keys in a dictionary must be of an immutable type (such as strings, numbers, or tuples) to ensure that their hash value remains constant. Values, on the other hand, can be of any type and are not required to be unique or immutable.\n",
    "\n",
    "Here's an example of a dictionary:"
   ]
  },
  {
   "cell_type": "code",
   "execution_count": 24,
   "id": "8b09ffd9-e079-40ec-8151-cdbf0de1d7ee",
   "metadata": {},
   "outputs": [],
   "source": [
    "\n",
    "my_dict = {'name': 'Alice', 'age': 30, 'city': 'Jaipur'}\n"
   ]
  },
  {
   "cell_type": "markdown",
   "id": "254f1f2d-dade-40f2-8ab9-177709f06ccd",
   "metadata": {},
   "source": [
    "ques 5. Why might you use a set instead of a list in Python?\n",
    "ans 5. Sets and lists are both used to store collections of items in Python, but they have distinct characteristics that make sets more suitable in certain scenarios:\n",
    "\n",
    "Uniqueness: Sets automatically enforce the uniqueness of their elements, meaning they do not allow duplicate values. This is beneficial when you need to ensure that a collection contains no duplicates without manually checking for them.\n",
    "\n",
    "Unordered Collection: Sets are unordered, meaning they do not maintain any particular order of elements. This makes them less suitable when the order of elements is important.\n",
    "\n",
    "Performance: Sets provide average-case constant-time complexity, O(1), for membership tests (checking if an item is in the set), making them more efficient than lists for this purpose, especially as the size of the collection grows.\n",
    "\n",
    "Set Operations: Sets support mathematical set operations like union, intersection, difference, and symmetric difference, which can be very useful for comparing collections of items.\n",
    "\n",
    "Here's an example of creating a set and performing a membership test:"
   ]
  },
  {
   "cell_type": "code",
   "execution_count": 27,
   "id": "907a6331-603b-4231-b1c6-720ed03923b1",
   "metadata": {},
   "outputs": [
    {
     "name": "stdout",
     "output_type": "stream",
     "text": [
      "True\n"
     ]
    }
   ],
   "source": [
    "my_set = {1, 2, 3, 4}\n",
    "print(3 in my_set)  # Output: True\n"
   ]
  },
  {
   "cell_type": "raw",
   "id": "27e37e27-a6e5-43bb-b58b-0240290a8161",
   "metadata": {},
   "source": [
    "ques 6.What is a string in Python, and how is it different from a list?\n",
    "\n",
    "ans 6.In Python, a string is an immutable sequence of characters used to represent textual data. Strings are defined by enclosing characters within single quotes ('...') or double quotes (\"...\").\n",
    "\n",
    "Differences between strings and lists:\n",
    "\n",
    "Mutability: Strings are immutable; once created, their content cannot be changed. Lists are mutable, allowing modification of their elements. \n",
    "\n",
    "\n",
    "Element Types: Strings consist solely of characters. Lists can contain elements of various data types, including integers, floats, strings, and even other lists. \n",
    "\n",
    "\n",
    "Usage: Strings are primarily used for handling text, while lists are used for collections of items, which can be homogeneous or heterogeneous.\n",
    "\n",
    "Methods: Both strings and lists support indexing and slicing, but their available methods differ. For example, lists have methods like .append() and .remove(), which are not available for strings."
   ]
  },
  {
   "cell_type": "raw",
   "id": "e6bd88e0-a170-4335-943b-cde348d999f3",
   "metadata": {},
   "source": [
    "ques 7.How do tuples ensure data integrity in Python?\n",
    "ans 7.Tuples are immutable sequences, meaning that once they are created, their elements cannot be modified, added, or removed. This immutability ensures that the data stored in a tuple remains constant throughout the program, preventing accidental or intentional alterations. As a result, tuples are often used to represent fixed collections of related data, such as coordinates or database records, where consistency and integrity are essential. "
   ]
  },
  {
   "cell_type": "raw",
   "id": "89d9b5ce-39a2-4372-a789-1717bb0bcdf7",
   "metadata": {},
   "source": [
    "ques 8.What is a hash table, and how does it relate to dictionaries in Python?\n",
    "\n",
    "ans 8.A hash table is a data structure that maps keys to values for efficient data retrieval. It uses a hash function to compute an index into an array of buckets or slots, from which the desired value can be found. In Python, dictionaries are implemented using hash tables, allowing for average-case constant-time complexity, O(1), for lookups, insertions, and deletions. This makes dictionaries highly efficient for storing and accessing data based on unique keys."
   ]
  },
  {
   "cell_type": "raw",
   "id": "d89f4803-10da-4e94-9065-157aa95f79b9",
   "metadata": {},
   "source": [
    "ques 9.Can lists contain different data types in Python?\n",
    "\n",
    "ans 9. Yes, in Python, lists can contain elements of different data types. A single list can hold integers, floats, strings, and even other lists or complex objects. This flexibility allows for the creation of complex data structures. However, it's generally advisable to maintain consistency in the types of elements within a list to avoid unintended behavior and to enhance code readability and maintainability."
   ]
  },
  {
   "cell_type": "raw",
   "id": "92be1e96-7738-486e-bc13-088ac24deea9",
   "metadata": {},
   "source": [
    "ques 10.Explain why strings are immutable in Python.\n",
    "\n",
    "ans 10.Strings in Python are immutable, meaning that once a string is created, it cannot be changed. This design choice offers several advantages:\n",
    "\n",
    "Performance: Immutability allows Python to optimize memory usage and access speed, as immutable objects can be shared and reused without concern for unexpected modifications.\n",
    "\n",
    "Security: Immutable strings prevent accidental or malicious alterations, which is particularly important in contexts like handling sensitive data or managing keys in dictionaries.\n",
    "\n",
    "Hashability: Immutability makes strings hashable, enabling their use as keys in dictionaries and elements in sets, both of which require immutable, hashable data types.\n",
    "\n",
    "These benefits contribute to the robustness and efficiency of Python programs."
   ]
  },
  {
   "cell_type": "raw",
   "id": "ed701767-16fe-4c75-8b3f-2178e5191a5f",
   "metadata": {},
   "source": [
    "ques 11.What advantages do dictionaries offer over lists for certain tasks?\n",
    "\n",
    "ans 11. Dictionaries provide several advantages over lists, especially when dealing with associations between unique keys and values:\n",
    "\n",
    "Fast Lookups: Dictionaries offer average-case constant-time complexity, O(1), for key-based access, making data retrieval faster compared to lists, which have linear-time complexity, O(n), for searches.\n",
    "\n",
    "Key-Value Pairing: Dictionaries store data as key-value pairs, allowing for more intuitive and meaningful data organization when associations between elements are essential.\n",
    "\n",
    "Unordered Collection: Unlike lists, dictionaries do not maintain any particular order of elements, which can be advantageous when order is irrelevant, and quick access is prioritized.\n",
    "\n",
    "These features make dictionaries particularly useful for tasks like implementing lookup tables, counting occurrences, and managing configurations."
   ]
  },
  {
   "cell_type": "raw",
   "id": "3c9bca87-ab84-41d4-b239-06acc9d6be6e",
   "metadata": {},
   "source": [
    "ques 12. Describe a scenario where using a tuple would be preferable over a list.\n",
    "\n",
    "ans 12.Using a tuple is preferable when you need to store a collection of items that should not change throughout the program. For example, representing fixed data such as the days of the "
   ]
  },
  {
   "cell_type": "code",
   "execution_count": 37,
   "id": "43eb15e2-ae88-41d4-8d86-d449636661b9",
   "metadata": {},
   "outputs": [],
   "source": [
    "days_of_week = ('Monday', 'Tuesday', 'Wednesday', 'Thursday', 'Friday', 'Saturday', 'Sunday')\n"
   ]
  },
  {
   "cell_type": "raw",
   "id": "010ab4b9-08f2-4eb5-a025-cccadab83eca",
   "metadata": {},
   "source": [
    "ques 13.How do sets handle duplicate values in Python?\n",
    "\n",
    "ans 13.In Python, sets automatically eliminate duplicate values. When you create a set from a collection containing duplicates, the set will include each unique element only once. For example:"
   ]
  },
  {
   "cell_type": "code",
   "execution_count": 39,
   "id": "2221ed0c-a5d3-4f8d-993a-59e03b17f5f8",
   "metadata": {},
   "outputs": [
    {
     "name": "stdout",
     "output_type": "stream",
     "text": [
      "{1, 2, 3, 4}\n"
     ]
    }
   ],
   "source": [
    "my_set = {1, 2, 2, 3, 4, 4, 4}\n",
    "print(my_set)  # Output: {1, 2, 3, 4}\n"
   ]
  },
  {
   "cell_type": "raw",
   "id": "d821c314-e411-4318-ba9d-af6a137cf5ec",
   "metadata": {},
   "source": [
    "ques 14.How does the “in” keyword work differently for lists and dictionaries?\n",
    "\n",
    "ans 14.In Python, the in keyword is used to check for membership:\n",
    "\n",
    "Lists: The in keyword"
   ]
  },
  {
   "cell_type": "raw",
   "id": "36d8db9c-4dbf-4a2f-9f53-ab6096216f18",
   "metadata": {},
   "source": [
    "ques 15.Can you modify the elements of a tuple? Explain why or why not.\n",
    "ans15.No, you cannot modify the elements of a tuple in Python because tuples are immutable. Once a tuple is created, its elements cannot be changed, added, or removed. This immutability ensures that the data remains constant and prevents accidental modifications. However, if a tuple contains mutable elements, such as lists, the mutable elements can be modified, but the tuple structure itself cannot be altered. "
   ]
  },
  {
   "cell_type": "raw",
   "id": "b1a52447-7728-4b9e-8d22-bbb173530bbd",
   "metadata": {},
   "source": [
    "ques 16.What is a nested dictionary, and give an example of its use case.\n",
    "ans 16.A nested dictionary in Python is a dictionary that contains another dictionary as a value. This allows for hierarchical data storage, enabling the representation of complex structures.\n",
    "\n",
    "Example Use Case:\n",
    "\n",
    "Consider storing information about students, where each student has a unique ID, and each ID maps to another dictionary containing details like name, age, and grades:"
   ]
  },
  {
   "cell_type": "code",
   "execution_count": 41,
   "id": "c13d126d-fdfe-4bac-a64e-85f404eabea6",
   "metadata": {},
   "outputs": [],
   "source": [
    "students = {\n",
    "    '001': {'name': 'Alice', 'age': 20, 'grades': {'math': 'A', 'science': 'B'}},\n",
    "    '002': {'name': 'Bob', 'age': 22, 'grades': {'math': 'B', 'science': 'A'}}\n",
    "}\n"
   ]
  },
  {
   "cell_type": "raw",
   "id": "9206caea-0b8c-467d-97cd-1ef073a85b78",
   "metadata": {},
   "source": [
    "ques 17.Describe the time complexity of accessing elements in a dictionary.\n",
    "ans 17.Accessing elements in a Python dictionary has an average-case time complexity of O(1), meaning it takes constant time to retrieve a value associated with a given key. This efficiency is due to the underlying hash table implementation, which allows for rapid key-based lookups. However, in the worst case, such as when many keys have the same hash value (hash collisions), the time complexity can degrade to O(n), where n is the number of entries in the dictionary. Despite this, Python's hashing algorithm is designed to minimize collisions, ensuring that dictionary access remains efficient in most scenarios."
   ]
  },
  {
   "cell_type": "raw",
   "id": "66b3c0c3-1e9b-4fea-a213-dbf7a648aa42",
   "metadata": {},
   "source": [
    "ques 18.In what situations are lists preferred over dictionaries?\n",
    "ans 18.\n",
    "Lists are preferred over dictionaries in situations where:\n",
    "\n",
    "Ordered Collection: Maintaining the order of elements is important, as lists preserve the sequence of insertion.\n",
    "\n",
    "Sequential Access: Elements are accessed by their position (index) rather than a unique key.\n",
    "\n",
    "Homogeneous Data: Storing a collection of items of the same type, such as a list of numbers or strings.\n",
    "\n",
    "Iteration: Performing operations that require processing elements in a specific order.\n",
    "\n",
    "For example, lists are ideal for storing a series of user inputs, processing items in a queue, or maintaining a collection of records where the order matters."
   ]
  },
  {
   "cell_type": "raw",
   "id": "3fbfd338-a207-4b4a-860c-d651409f0dc0",
   "metadata": {},
   "source": [
    "ques 19.Why are dictionaries considered unordered, and how does that affect data retrieval?\n",
    "ans 19.Dictionaries in Python are considered unordered because they do not maintain any guaranteed order of their key-value pairs. This means that the items may not be retrieved in the order they were added. As a result, when iterating over a dictionary, the elements may appear in a seemingly random sequence. This characteristic affects data retrieval in that if a specific order is required, additional steps must be taken, such as sorting the keys or using an OrderedDict from the collections module, which maintains insertion order."
   ]
  },
  {
   "cell_type": "raw",
   "id": "63507c33-4cce-46c8-8574-c99e1206724c",
   "metadata": {},
   "source": [
    "ques 20.Explain the difference between a list and a dictionary in terms of data retrieval.\n",
    "ans 20.The primary differences between a list and a dictionary in terms of data retrieval are:\n",
    "\n",
    "Access Method:\n",
    "\n",
    "List: Elements are accessed by their index positions, which are integer-based and zero-indexed.\n",
    "Dictionary: Values are accessed using unique keys, which can be of various immutable types (e.g., strings, numbers).\n",
    "Time Complexity:\n",
    "\n",
    "List: Accessing an element by index has a time complexity of O(1). However, searching for an element by value requires O(n) time, where n is the number of elements.\n",
    "Dictionary: Accessing a value by its key typically has an average-case time complexity of O(1), due to the underlying hash table implementation.\n",
    "Use Cases:\n",
    "\n",
    "List: Suitable for ordered collections where positional access is needed.\n",
    "Dictionary: Ideal for associative arrays where data is retrieved based on unique keys, allowing for more descriptive and meaningful access patterns."
   ]
  },
  {
   "cell_type": "markdown",
   "id": "1a7e8603-a0af-4d5d-b0f1-50d763c07ba6",
   "metadata": {},
   "source": [
    "Practical Questions"
   ]
  },
  {
   "cell_type": "markdown",
   "id": "f323bc5b-f042-4cd9-8ce1-22d486ddd146",
   "metadata": {},
   "source": [
    "\n",
    "1.Write a code to create a string with your name and print it."
   ]
  },
  {
   "cell_type": "code",
   "execution_count": 49,
   "id": "c5d14c1c-dc79-4fa4-826a-de45cfc01643",
   "metadata": {},
   "outputs": [
    {
     "name": "stdout",
     "output_type": "stream",
     "text": [
      "shubham singh\n"
     ]
    }
   ],
   "source": [
    "name = \"shubham singh\"\n",
    "print(name)\n"
   ]
  },
  {
   "cell_type": "markdown",
   "id": "efc863e6-f1de-497c-938a-c5775af7c83b",
   "metadata": {},
   "source": [
    "2.Write a code to find the length of the string \"Hello World\"."
   ]
  },
  {
   "cell_type": "code",
   "execution_count": 59,
   "id": "7b70da27-66c2-4191-94f7-695595a1e627",
   "metadata": {},
   "outputs": [
    {
     "name": "stdout",
     "output_type": "stream",
     "text": [
      "11\n"
     ]
    }
   ],
   "source": [
    "string = \"Hello World\"\n",
    "length = len(string)\n",
    "print(length)\n"
   ]
  },
  {
   "cell_type": "markdown",
   "id": "7901937d-8f9b-47c2-99c7-7541005e53a6",
   "metadata": {},
   "source": [
    "3. Write a code to slice the first 3 characters from the string \"Python Programming\"."
   ]
  },
  {
   "cell_type": "code",
   "execution_count": 55,
   "id": "412b7eda-b8e1-490d-9bc3-4c74353888de",
   "metadata": {},
   "outputs": [
    {
     "name": "stdout",
     "output_type": "stream",
     "text": [
      "Pyt\n"
     ]
    }
   ],
   "source": [
    "string = \"Python Programming\"\n",
    "first_three_chars = string[:3]\n",
    "print(first_three_chars)\n"
   ]
  },
  {
   "cell_type": "markdown",
   "id": "99380a73-9a09-481a-8c7d-506b7d3c704c",
   "metadata": {},
   "source": [
    "4.Write a code to convert the string \"hello\" to uppercase."
   ]
  },
  {
   "cell_type": "code",
   "execution_count": 66,
   "id": "8366ff51-f92d-4caf-aea5-e5f3e3ba1cc0",
   "metadata": {},
   "outputs": [
    {
     "data": {
      "text/plain": [
       "'HELLO'"
      ]
     },
     "execution_count": 66,
     "metadata": {},
     "output_type": "execute_result"
    }
   ],
   "source": [
    "string = \"hello\"\n",
    "string.upper()\n",
    "\n"
   ]
  },
  {
   "cell_type": "markdown",
   "id": "49ef4ca4-35b3-48b1-85bd-3c4290cf3d36",
   "metadata": {},
   "source": [
    "5.Write a code to replace the word \"apple\" with \"orange\" in the string \"I like apple\"?"
   ]
  },
  {
   "cell_type": "code",
   "execution_count": 69,
   "id": "6ff1e5b8-d041-4dc2-a7c9-749445e5b015",
   "metadata": {},
   "outputs": [
    {
     "name": "stdout",
     "output_type": "stream",
     "text": [
      "I like orange\n"
     ]
    }
   ],
   "source": [
    "sentence = \"I like apple\"\n",
    "new_sentence = sentence.replace(\"apple\", \"orange\")\n",
    "print(new_sentence)\n"
   ]
  },
  {
   "cell_type": "markdown",
   "id": "ee9f4178-8e7a-46a5-ba7e-6b4770024b49",
   "metadata": {},
   "source": [
    "6. Write a code to create a list with numbers 1 to 5 and print it?"
   ]
  },
  {
   "cell_type": "code",
   "execution_count": 74,
   "id": "d3bb91df-7b64-4dfb-bc24-2552c0e66b72",
   "metadata": {},
   "outputs": [
    {
     "name": "stdout",
     "output_type": "stream",
     "text": [
      "[1, 2, 3, 4, 5]\n"
     ]
    }
   ],
   "source": [
    "numbers = [1, 2, 3, 4, 5]\n",
    "print(numbers)\n"
   ]
  },
  {
   "cell_type": "markdown",
   "id": "9d6c2706-6d3d-42e5-a2f5-a7a9ec05042e",
   "metadata": {},
   "source": [
    "7.Write a code to append the number 10 to the list [1, 2, 3, 4]"
   ]
  },
  {
   "cell_type": "code",
   "execution_count": 77,
   "id": "efda9c28-cf5a-4f21-bf9a-27793cb99c75",
   "metadata": {},
   "outputs": [
    {
     "name": "stdout",
     "output_type": "stream",
     "text": [
      "[1, 2, 3, 4, 10]\n"
     ]
    }
   ],
   "source": [
    "numbers = [1, 2, 3, 4]\n",
    "numbers.append(10)\n",
    "print(numbers)\n"
   ]
  },
  {
   "cell_type": "markdown",
   "id": "778a773a-bd7a-4559-8e10-05bd1883654d",
   "metadata": {},
   "source": [
    "8. Write a code to remove the number 3 from the list [1, 2, 3, 4, 5]"
   ]
  },
  {
   "cell_type": "code",
   "execution_count": 80,
   "id": "4cec562b-ee20-40b1-8802-15f29ac2aab7",
   "metadata": {},
   "outputs": [
    {
     "name": "stdout",
     "output_type": "stream",
     "text": [
      "[1, 2, 4, 5]\n"
     ]
    }
   ],
   "source": [
    "numbers = [1, 2, 3, 4, 5]\n",
    "numbers.remove(3)\n",
    "print(numbers)\n"
   ]
  },
  {
   "cell_type": "markdown",
   "id": "377d9c0d-2807-40de-8b1a-f6f4e34db603",
   "metadata": {},
   "source": [
    "9.Write a code to access the second element in the list ['a', 'b', 'c', 'd']"
   ]
  },
  {
   "cell_type": "code",
   "execution_count": 83,
   "id": "35e630ac-4d4b-4fa3-9fe6-6e149b5527fc",
   "metadata": {},
   "outputs": [
    {
     "name": "stdout",
     "output_type": "stream",
     "text": [
      "b\n"
     ]
    }
   ],
   "source": [
    "letters = ['a', 'b', 'c', 'd']\n",
    "second_element = letters[1]\n",
    "print(second_element)\n"
   ]
  },
  {
   "cell_type": "markdown",
   "id": "16ed4173-58a1-4cb2-b0f9-46ac0328f890",
   "metadata": {},
   "source": [
    "10.Write a code to reverse the list [10, 20, 30, 40, 50]."
   ]
  },
  {
   "cell_type": "code",
   "execution_count": 86,
   "id": "135b0e69-dc74-404e-b105-c18c6f5173a5",
   "metadata": {},
   "outputs": [
    {
     "name": "stdout",
     "output_type": "stream",
     "text": [
      "[50, 40, 30, 20, 10]\n"
     ]
    }
   ],
   "source": [
    "numbers = [10, 20, 30, 40, 50]\n",
    "numbers.reverse()\n",
    "print(numbers)\n"
   ]
  },
  {
   "cell_type": "markdown",
   "id": "8c9b9ae4-fd33-413a-a82d-8ef4f3035a6e",
   "metadata": {},
   "source": [
    "11.Write a code to create a tuple with the elements 10, 20, 30 and print it"
   ]
  },
  {
   "cell_type": "code",
   "execution_count": 90,
   "id": "0f7616e9-779d-487e-a812-fd6cdc0e7f58",
   "metadata": {},
   "outputs": [
    {
     "name": "stdout",
     "output_type": "stream",
     "text": [
      "(10, 20, 30)\n"
     ]
    }
   ],
   "source": [
    "my_tuple = (10, 20, 30)\n",
    "print(my_tuple)\n"
   ]
  },
  {
   "cell_type": "markdown",
   "id": "42f888d9-61ac-41ab-ba27-6a7200d09fb1",
   "metadata": {},
   "source": [
    "12.Write a code to access the first element of the tuple ('apple', 'banana', 'cherry').\n"
   ]
  },
  {
   "cell_type": "code",
   "execution_count": 95,
   "id": "2c563683-c32b-4367-8b5d-33f69eedb356",
   "metadata": {},
   "outputs": [
    {
     "name": "stdout",
     "output_type": "stream",
     "text": [
      "apple\n"
     ]
    }
   ],
   "source": [
    "my_tuple = ('apple', 'banana', 'cherry')\n",
    "print(my_tuple[0])\n"
   ]
  },
  {
   "cell_type": "markdown",
   "id": "d53bc848-f698-4202-9e9d-afb81274c3c7",
   "metadata": {},
   "source": [
    "13. Write a code to count how many times the number 2 appears in the tuple (1, 2, 3, 2, 4, 2)."
   ]
  },
  {
   "cell_type": "code",
   "execution_count": 98,
   "id": "0be1a901-845f-4b35-abfc-1cd036b99fa3",
   "metadata": {},
   "outputs": [
    {
     "name": "stdout",
     "output_type": "stream",
     "text": [
      "3\n"
     ]
    }
   ],
   "source": [
    "my_tuple = (1, 2, 3, 2, 4, 2)\n",
    "count = my_tuple.count(2)\n",
    "print(count)\n"
   ]
  },
  {
   "cell_type": "markdown",
   "id": "efb4404d-cf6a-4879-a512-f67acefea781",
   "metadata": {},
   "source": [
    "14. Write a code to find the index of the element \"cat\" in the tuple ('dog', 'cat', 'rabbit')."
   ]
  },
  {
   "cell_type": "code",
   "execution_count": 102,
   "id": "fd573833-3285-48cb-8d18-02f750bf31d3",
   "metadata": {},
   "outputs": [
    {
     "name": "stdout",
     "output_type": "stream",
     "text": [
      "1\n"
     ]
    }
   ],
   "source": [
    "my_tuple = ('dog', 'cat', 'rabbit')\n",
    "index = my_tuple.index('cat')\n",
    "print(index)\n"
   ]
  },
  {
   "cell_type": "markdown",
   "id": "43c8f360-e525-41f5-9148-a25bba860879",
   "metadata": {},
   "source": [
    "15. Write a code to check if the element \"banana\" is in the tuple ('apple', 'orange', 'banana')."
   ]
  },
  {
   "cell_type": "code",
   "execution_count": 107,
   "id": "1506f8a6-d39c-41ca-b3df-2b9628842e9e",
   "metadata": {},
   "outputs": [
    {
     "name": "stdout",
     "output_type": "stream",
     "text": [
      "True\n"
     ]
    }
   ],
   "source": [
    "my_tuple = ('apple', 'orange', 'banana')\n",
    "print('banana' in my_tuple)\n"
   ]
  },
  {
   "cell_type": "markdown",
   "id": "8b0298bb-cd47-4861-93a9-a1b97ad2cf15",
   "metadata": {},
   "source": [
    "16.Write a code to create a set with the elements 1, 2, 3, 4, 5 and print it.\n",
    "\n"
   ]
  },
  {
   "cell_type": "code",
   "execution_count": 115,
   "id": "9ad50463-7e2c-4b27-8da1-a473806292f2",
   "metadata": {},
   "outputs": [
    {
     "name": "stdout",
     "output_type": "stream",
     "text": [
      "{1, 2, 3, 4, 5}\n"
     ]
    }
   ],
   "source": [
    "my_set = {1, 2, 3, 4, 5}\n",
    "print(my_set)\n"
   ]
  },
  {
   "cell_type": "markdown",
   "id": "6c14d3d3-fc40-4f86-b643-4182d34edceb",
   "metadata": {},
   "source": [
    "17. Write a code to add the element 6 to the set {1, 2, 3, 4}."
   ]
  },
  {
   "cell_type": "code",
   "execution_count": 117,
   "id": "9b31ddfa-00b6-40ff-88d6-a8db1873c48f",
   "metadata": {},
   "outputs": [
    {
     "name": "stdout",
     "output_type": "stream",
     "text": [
      "{1, 2, 3, 4, 6}\n"
     ]
    }
   ],
   "source": [
    "\n",
    "my_set = {1, 2, 3, 4}\n",
    "my_set.add(6)\n",
    "print(my_set)\n"
   ]
  },
  {
   "cell_type": "markdown",
   "id": "05690138-d33e-488b-bcb1-44a09a6ebf66",
   "metadata": {},
   "source": [
    "18. Write a code to create a tuple with the elements 10, 20, 30 and print it."
   ]
  },
  {
   "cell_type": "code",
   "execution_count": 120,
   "id": "b320f747-152a-400e-a034-e9531a2c16ae",
   "metadata": {},
   "outputs": [
    {
     "name": "stdout",
     "output_type": "stream",
     "text": [
      "(10, 20, 30)\n"
     ]
    }
   ],
   "source": [
    "\n",
    "my_tuple = (10, 20, 30)\n",
    "print(my_tuple)\n"
   ]
  },
  {
   "cell_type": "markdown",
   "id": "18a8f84a-80ca-40fc-a683-c14ee8462670",
   "metadata": {},
   "source": [
    "19. Write a code to access the first element of the tuple ('apple', 'banana', 'cherry')."
   ]
  },
  {
   "cell_type": "code",
   "execution_count": 123,
   "id": "647963cc-1a1e-4f75-b15b-ff6b46f64368",
   "metadata": {},
   "outputs": [
    {
     "name": "stdout",
     "output_type": "stream",
     "text": [
      "apple\n"
     ]
    }
   ],
   "source": [
    "my_tuple = ('apple', 'banana', 'cherry')\n",
    "print(my_tuple[0])\n"
   ]
  },
  {
   "cell_type": "markdown",
   "id": "2773d34e-8610-467d-9c0d-11c1ba3f86c0",
   "metadata": {},
   "source": [
    "20\n",
    ". Write a code to count how many times the number 2 appears in the tuple (1, 2, 3, 2, 4, 2)."
   ]
  },
  {
   "cell_type": "code",
   "execution_count": 127,
   "id": "db775665-df0c-4a11-bb10-933a016c540b",
   "metadata": {},
   "outputs": [
    {
     "name": "stdout",
     "output_type": "stream",
     "text": [
      "3\n"
     ]
    }
   ],
   "source": [
    "my_tuple = (1, 2, 3, 2, 4, 2)\n",
    "count = my_tuple.count(2)\n",
    "print(count)\n"
   ]
  },
  {
   "cell_type": "markdown",
   "id": "e2ca34b3-d00d-416b-837e-8ee8d04de3c7",
   "metadata": {},
   "source": [
    "21.Write a code to find the index of the element \"cat\" in the tuple ('dog', 'cat', 'rabbit')."
   ]
  },
  {
   "cell_type": "code",
   "execution_count": 130,
   "id": "28117f43-2d40-4a31-b14b-fe6310bcff4d",
   "metadata": {},
   "outputs": [
    {
     "name": "stdout",
     "output_type": "stream",
     "text": [
      "1\n"
     ]
    }
   ],
   "source": [
    "my_tuple = ('dog', 'cat', 'rabbit')\n",
    "index = my_tuple.index('cat')\n",
    "print(index)\n"
   ]
  },
  {
   "cell_type": "markdown",
   "id": "8c990037-61fa-4f33-8ce0-c0e10280832b",
   "metadata": {},
   "source": [
    "22.. Write a code to check if the element \"banana\" is in the tuple ('apple', 'orange', 'banana')."
   ]
  },
  {
   "cell_type": "code",
   "execution_count": 133,
   "id": "902c161f-ac0f-48d5-bc90-77ef2cd4237d",
   "metadata": {},
   "outputs": [
    {
     "name": "stdout",
     "output_type": "stream",
     "text": [
      "True\n"
     ]
    }
   ],
   "source": [
    "my_tuple = ('apple', 'orange', 'banana')\n",
    "print('banana' in my_tuple)\n"
   ]
  },
  {
   "cell_type": "markdown",
   "id": "2be8417c-4032-45f3-a75f-0dd51aaf21cf",
   "metadata": {},
   "source": [
    "23. Write a code to create a set with the elements 1, 2, 3, 4, 5 and print it."
   ]
  },
  {
   "cell_type": "code",
   "execution_count": null,
   "id": "b0479f93-279c-4779-a5d8-7ab1777ea5ac",
   "metadata": {},
   "outputs": [],
   "source": []
  }
 ],
 "metadata": {
  "kernelspec": {
   "display_name": "Python 3 (ipykernel)",
   "language": "python",
   "name": "python3"
  },
  "language_info": {
   "codemirror_mode": {
    "name": "ipython",
    "version": 3
   },
   "file_extension": ".py",
   "mimetype": "text/x-python",
   "name": "python",
   "nbconvert_exporter": "python",
   "pygments_lexer": "ipython3",
   "version": "3.12.4"
  }
 },
 "nbformat": 4,
 "nbformat_minor": 5
}
